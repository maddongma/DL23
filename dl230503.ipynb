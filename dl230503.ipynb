{
  "nbformat": 4,
  "nbformat_minor": 0,
  "metadata": {
    "colab": {
      "provenance": [],
      "include_colab_link": true
    },
    "kernelspec": {
      "name": "python3",
      "display_name": "Python 3"
    },
    "language_info": {
      "name": "python"
    }
  },
  "cells": [
    {
      "cell_type": "markdown",
      "metadata": {
        "id": "view-in-github",
        "colab_type": "text"
      },
      "source": [
        "<a href=\"https://colab.research.google.com/github/maddongma/DL23/blob/main/dl230503.ipynb\" target=\"_parent\"><img src=\"https://colab.research.google.com/assets/colab-badge.svg\" alt=\"Open In Colab\"/></a>"
      ]
    },
    {
      "cell_type": "markdown",
      "source": [
        "# **Digital Literacy Midterm Spring 2023 (5/3, Wednesday)**\n",
        "\n",
        "There are two parts:\n",
        "\n",
        "🌀**Part I: Coding in Colab (20 questions, 30 points): max 40 mins**\n",
        "\n",
        "+ Q1~10 (1 point each * 10 = 10)\n",
        "+ Q11~Q20 (2 points each * 10 = 20)\n",
        "\n",
        "\n",
        "🌀**Part II: Google Form (30 questions, 30 points)**\n",
        "\n",
        "Total 50 minutes are allowed."
      ],
      "metadata": {
        "id": "uG7ryUj1vrAd"
      }
    },
    {
      "cell_type": "markdown",
      "source": [
        "---\n",
        "##**Instructions**\n",
        "\n",
        "When times up (max 40 mins), save this copy as a pdf file (to upload) AND to your github repository with the following file name format:\n",
        "\n",
        "\n",
        "## 📌 Files: \n",
        "##**1) dl230503_yourid.pdf**\n",
        "##**2) dl230503_yourid.ipynb**\n",
        "---"
      ],
      "metadata": {
        "id": "Nvk-6cX5vzGf"
      }
    },
    {
      "cell_type": "markdown",
      "source": [
        "# 🌀**Part I: Coding in Colab (20 questions, 30 points): max 40 mins**"
      ],
      "metadata": {
        "id": "QXo452swwdC-"
      }
    },
    {
      "cell_type": "code",
      "source": [
        "yourname = input(\"Type your name here: \")"
      ],
      "metadata": {
        "id": "Navu6pa1HRUo",
        "outputId": "ade80be8-53ef-444c-e441-21e46984d716",
        "colab": {
          "base_uri": "https://localhost:8080/",
          "height": 0
        }
      },
      "execution_count": 1,
      "outputs": [
        {
          "name": "stdout",
          "output_type": "stream",
          "text": [
            "Type your name here: 마동환\n"
          ]
        }
      ]
    },
    {
      "cell_type": "markdown",
      "source": [
        "##Q1. Create a list called fruits and add three of your favorite fruits to it. Then, print the list."
      ],
      "metadata": {
        "id": "f_6UoScV9Egz"
      }
    },
    {
      "cell_type": "code",
      "source": [
        "fruits = list[\"apple, pineapple, lemon\"]\n",
        "print(fruits)"
      ],
      "metadata": {
        "id": "7pvq2ocQ9F5z",
        "colab": {
          "base_uri": "https://localhost:8080/",
          "height": 0
        },
        "outputId": "45f33b19-0947-4b8c-ac5f-3daa799972a9"
      },
      "execution_count": 5,
      "outputs": [
        {
          "output_type": "stream",
          "name": "stdout",
          "text": [
            "list['apple, pineapple, lemon']\n"
          ]
        }
      ]
    },
    {
      "cell_type": "markdown",
      "source": [
        "##Q2. Create a variable called **_name_** and ask the user to enter their name. Then, print a message that says \"Hello, [name]!\"."
      ],
      "metadata": {
        "id": "PcXue4xzv-Yw"
      }
    },
    {
      "cell_type": "code",
      "source": [
        "name = input(\"what is your name?\")\n",
        "\n",
        "print(\"Hello,\"+name + \"!\")"
      ],
      "metadata": {
        "id": "giTXfqgOwC0O",
        "colab": {
          "base_uri": "https://localhost:8080/",
          "height": 0
        },
        "outputId": "8fc14cd0-887a-446a-d19d-45680bcb4dc8"
      },
      "execution_count": 8,
      "outputs": [
        {
          "output_type": "stream",
          "name": "stdout",
          "text": [
            "what is your name?마동환\n",
            "Hello,마동환!\n"
          ]
        }
      ]
    },
    {
      "cell_type": "markdown",
      "source": [
        "##Q3. Create a variable called **_age_** and ask the user to enter their age. Then, print a message that says \"You are [age] years old\"."
      ],
      "metadata": {
        "id": "AePeo9Xj81Lq"
      }
    },
    {
      "cell_type": "code",
      "source": [
        "age = input(\"how old are you?\")\n",
        "\n",
        "print(\"you are\"+\" \"+ age +' ' +\"years old\")\n"
      ],
      "metadata": {
        "id": "-uZrFNqJ8-P1",
        "colab": {
          "base_uri": "https://localhost:8080/",
          "height": 0
        },
        "outputId": "e2274e45-1db6-4b0b-ee22-848655557348"
      },
      "execution_count": 15,
      "outputs": [
        {
          "output_type": "stream",
          "name": "stdout",
          "text": [
            "how old are you?21\n",
            "you are 21 years old\n"
          ]
        }
      ]
    },
    {
      "cell_type": "markdown",
      "source": [
        "##Q4. Create a dictionary called **_person_** with keys name, age, and ID. Set the values to your own name, age, and address. Then, print the dictionary."
      ],
      "metadata": {
        "id": "em_AuOW78-p2"
      }
    },
    {
      "cell_type": "code",
      "source": [
        "person = dict[\"마동환\",\"21\",\"2022013201\"]\n",
        "\n",
        "print(person)"
      ],
      "metadata": {
        "id": "RLK7p5Q49cV0",
        "colab": {
          "base_uri": "https://localhost:8080/",
          "height": 0
        },
        "outputId": "358b99c3-87cc-4622-b5fa-eb93650f366f"
      },
      "execution_count": 17,
      "outputs": [
        {
          "output_type": "stream",
          "name": "stdout",
          "text": [
            "dict['마동환', '21', '2022013201']\n"
          ]
        }
      ]
    },
    {
      "cell_type": "markdown",
      "source": [
        "##Q5. Create a variable called **_num1_** and set it to 5. Create another variable called **_num2_** and set it to 10. Add num1 and num2 together and print the result."
      ],
      "metadata": {
        "id": "d7JQrF_W9b0_"
      }
    },
    {
      "cell_type": "code",
      "source": [
        "num1=5\n",
        "num2=10\n",
        "\n",
        "num1+num2"
      ],
      "metadata": {
        "id": "tnZxKJ5D9veI",
        "colab": {
          "base_uri": "https://localhost:8080/",
          "height": 0
        },
        "outputId": "74b10dfb-2b11-4851-b9fe-eef4c29efec7"
      },
      "execution_count": 22,
      "outputs": [
        {
          "output_type": "execute_result",
          "data": {
            "text/plain": [
              "15"
            ]
          },
          "metadata": {},
          "execution_count": 22
        }
      ]
    },
    {
      "cell_type": "markdown",
      "source": [
        "##Q6. Create a variable called **_num3_** and set it to 3. Create another variable called **_num4_** and set it to 2. Divide num3 by num4 and print the result."
      ],
      "metadata": {
        "id": "-i5804vz9U5q"
      }
    },
    {
      "cell_type": "code",
      "source": [
        "num3 = 3\n",
        "num4 = 2\n",
        "\n",
        "num3/num4"
      ],
      "metadata": {
        "id": "jzdLu_QG9-wY",
        "colab": {
          "base_uri": "https://localhost:8080/",
          "height": 0
        },
        "outputId": "5ea3a7f7-5fd0-479d-c6c8-318ac8d2b879"
      },
      "execution_count": 23,
      "outputs": [
        {
          "output_type": "execute_result",
          "data": {
            "text/plain": [
              "1.5"
            ]
          },
          "metadata": {},
          "execution_count": 23
        }
      ]
    },
    {
      "cell_type": "markdown",
      "source": [
        "##Q7. Create a variable called **_sentence_** and set it to \"The quick brown fox jumps over the lazy dog\". Use the **split()** function to split the sentence into a list of words. Then, print the list."
      ],
      "metadata": {
        "id": "5s5sjEco9_CM"
      }
    },
    {
      "cell_type": "code",
      "source": [
        "sentence = \"The quick brown fox jumps over the lazy dog\"\n",
        "m= sentence.split()\n",
        "print(m)"
      ],
      "metadata": {
        "id": "RD4gaQKe-KO-",
        "colab": {
          "base_uri": "https://localhost:8080/",
          "height": 0
        },
        "outputId": "163f498c-f825-4863-be83-c2d0e5763e97"
      },
      "execution_count": 24,
      "outputs": [
        {
          "output_type": "stream",
          "name": "stdout",
          "text": [
            "['The', 'quick', 'brown', 'fox', 'jumps', 'over', 'the', 'lazy', 'dog']\n"
          ]
        }
      ]
    },
    {
      "cell_type": "markdown",
      "source": [
        "##Q8. Create a list called **_colors_** and add three of your favorite colors to it. Use the **join()** function to join the list into a string separated by commas. Then, print the string."
      ],
      "metadata": {
        "id": "LB1OOu5--LEJ"
      }
    },
    {
      "cell_type": "code",
      "source": [
        "colors=list[\"red\",\"green\",\"blue\"]\n",
        "m= colors.join()\n",
        "print(m)"
      ],
      "metadata": {
        "id": "R885XASr-Ttn",
        "colab": {
          "base_uri": "https://localhost:8080/",
          "height": 211
        },
        "outputId": "58c81fca-9edb-4473-9392-b86b389b7c9e"
      },
      "execution_count": 29,
      "outputs": [
        {
          "output_type": "error",
          "ename": "AttributeError",
          "evalue": "ignored",
          "traceback": [
            "\u001b[0;31m---------------------------------------------------------------------------\u001b[0m",
            "\u001b[0;31mAttributeError\u001b[0m                            Traceback (most recent call last)",
            "\u001b[0;32m<ipython-input-29-b30608439da0>\u001b[0m in \u001b[0;36m<cell line: 2>\u001b[0;34m()\u001b[0m\n\u001b[1;32m      1\u001b[0m \u001b[0mcolors\u001b[0m\u001b[0;34m=\u001b[0m\u001b[0mlist\u001b[0m\u001b[0;34m[\u001b[0m\u001b[0;34m\"red\"\u001b[0m\u001b[0;34m,\u001b[0m\u001b[0;34m\"green\"\u001b[0m\u001b[0;34m,\u001b[0m\u001b[0;34m\"blue\"\u001b[0m\u001b[0;34m]\u001b[0m\u001b[0;34m\u001b[0m\u001b[0;34m\u001b[0m\u001b[0m\n\u001b[0;32m----> 2\u001b[0;31m \u001b[0mm\u001b[0m\u001b[0;34m=\u001b[0m \u001b[0mcolors\u001b[0m\u001b[0;34m.\u001b[0m\u001b[0mjoin\u001b[0m\u001b[0;34m(\u001b[0m\u001b[0;34m)\u001b[0m\u001b[0;34m\u001b[0m\u001b[0;34m\u001b[0m\u001b[0m\n\u001b[0m\u001b[1;32m      3\u001b[0m \u001b[0mprint\u001b[0m\u001b[0;34m(\u001b[0m\u001b[0mm\u001b[0m\u001b[0;34m)\u001b[0m\u001b[0;34m\u001b[0m\u001b[0;34m\u001b[0m\u001b[0m\n",
            "\u001b[0;31mAttributeError\u001b[0m: type object 'list' has no attribute 'join'"
          ]
        }
      ]
    },
    {
      "cell_type": "markdown",
      "source": [
        "##Q9. Create a variable called **_number_** and set it to 5. Use the **str()** function to convert the number to a string. Then, print number + 7"
      ],
      "metadata": {
        "id": "dAI5abTF-UBn"
      }
    },
    {
      "cell_type": "code",
      "source": [
        "number=5\n",
        "m=str(number)\n",
        "print(m+\"7\")"
      ],
      "metadata": {
        "id": "JBBLWa8U-y60",
        "colab": {
          "base_uri": "https://localhost:8080/",
          "height": 0
        },
        "outputId": "d22bc1fc-602f-40bc-b2f3-74ac5fbcdf47"
      },
      "execution_count": 31,
      "outputs": [
        {
          "output_type": "stream",
          "name": "stdout",
          "text": [
            "57\n"
          ]
        }
      ]
    },
    {
      "cell_type": "markdown",
      "source": [
        "##Q10. Create a variable called **_my_string_** and set it to \"Hello, world!\". Use the index() function to find the index of the letter \"w\" in the string. Then, print the index."
      ],
      "metadata": {
        "id": "p7l0HIDq-zJR"
      }
    },
    {
      "cell_type": "code",
      "source": [
        "my_string = \"hello, world!\"\n",
        "m=my_string[7]\n",
        "print(m)"
      ],
      "metadata": {
        "id": "EQCj1EFc_wVi",
        "colab": {
          "base_uri": "https://localhost:8080/",
          "height": 0
        },
        "outputId": "0d44469f-a546-4e5b-f584-f6b683065da5"
      },
      "execution_count": 35,
      "outputs": [
        {
          "output_type": "stream",
          "name": "stdout",
          "text": [
            "w\n"
          ]
        }
      ]
    },
    {
      "cell_type": "markdown",
      "source": [
        "##Q11. Create a variable called **_my_list_** and set it to [1, 2, 3, 4, 5]. Use the len() function to find the length of the list. Then, print the length."
      ],
      "metadata": {
        "id": "3cQvEKzw_xGG"
      }
    },
    {
      "cell_type": "code",
      "source": [
        "my_list=[1,2,3,4,5]\n",
        "m=len(my_list)\n",
        "print(m)"
      ],
      "metadata": {
        "id": "XWNin3P8_5N6",
        "colab": {
          "base_uri": "https://localhost:8080/",
          "height": 0
        },
        "outputId": "7114ec0e-cec8-432a-a982-bc9d0c85e612"
      },
      "execution_count": 39,
      "outputs": [
        {
          "output_type": "stream",
          "name": "stdout",
          "text": [
            "5\n"
          ]
        }
      ]
    },
    {
      "cell_type": "markdown",
      "source": [
        "##Q12. Create a variable called **_my_string_** and set it to \"Hello, world!\". Use slicing to print the first 5 characters of the string."
      ],
      "metadata": {
        "id": "x1wsjbhI_5oA"
      }
    },
    {
      "cell_type": "code",
      "source": [
        "my_string=\"hello, world!\"\n",
        "slice(my_string)\n",
        "print(my_string[0:5])\n"
      ],
      "metadata": {
        "id": "xw4BY9wJAFzc",
        "colab": {
          "base_uri": "https://localhost:8080/",
          "height": 0
        },
        "outputId": "5db5e697-c1f4-4618-a6a3-6671c1b6112d"
      },
      "execution_count": 44,
      "outputs": [
        {
          "output_type": "stream",
          "name": "stdout",
          "text": [
            "hello\n"
          ]
        }
      ]
    },
    {
      "cell_type": "markdown",
      "source": [
        "##Q13. Create a list called **_numbers_**. Using the random.randint() function, add five random integers to it. Then, print the list. \n",
        "\n",
        "**Note:** You should not write the random number on your own. The code should take the random number and add it to your list."
      ],
      "metadata": {
        "id": "MkzTNSRBAGTM"
      }
    },
    {
      "cell_type": "code",
      "source": [
        "numbers=[1,2,3,4,5]\n",
        "\n",
        "numbers=random.randint(1,5)"
      ],
      "metadata": {
        "id": "eDwWJE0TAP0u",
        "colab": {
          "base_uri": "https://localhost:8080/",
          "height": 211
        },
        "outputId": "765c4c5b-1207-4da3-dbb0-b4f027638e00"
      },
      "execution_count": 51,
      "outputs": [
        {
          "output_type": "error",
          "ename": "NameError",
          "evalue": "ignored",
          "traceback": [
            "\u001b[0;31m---------------------------------------------------------------------------\u001b[0m",
            "\u001b[0;31mNameError\u001b[0m                                 Traceback (most recent call last)",
            "\u001b[0;32m<ipython-input-51-d90a7b937208>\u001b[0m in \u001b[0;36m<cell line: 3>\u001b[0;34m()\u001b[0m\n\u001b[1;32m      1\u001b[0m \u001b[0mnumbers\u001b[0m\u001b[0;34m=\u001b[0m\u001b[0;34m[\u001b[0m\u001b[0;36m1\u001b[0m\u001b[0;34m,\u001b[0m\u001b[0;36m2\u001b[0m\u001b[0;34m,\u001b[0m\u001b[0;36m3\u001b[0m\u001b[0;34m,\u001b[0m\u001b[0;36m4\u001b[0m\u001b[0;34m,\u001b[0m\u001b[0;36m5\u001b[0m\u001b[0;34m]\u001b[0m\u001b[0;34m\u001b[0m\u001b[0;34m\u001b[0m\u001b[0m\n\u001b[1;32m      2\u001b[0m \u001b[0;34m\u001b[0m\u001b[0m\n\u001b[0;32m----> 3\u001b[0;31m \u001b[0mnumbers\u001b[0m\u001b[0;34m=\u001b[0m\u001b[0mrandom\u001b[0m\u001b[0;34m.\u001b[0m\u001b[0mrandint\u001b[0m\u001b[0;34m(\u001b[0m\u001b[0;36m1\u001b[0m\u001b[0;34m,\u001b[0m\u001b[0;36m5\u001b[0m\u001b[0;34m)\u001b[0m\u001b[0;34m\u001b[0m\u001b[0;34m\u001b[0m\u001b[0m\n\u001b[0m",
            "\u001b[0;31mNameError\u001b[0m: name 'random' is not defined"
          ]
        }
      ]
    },
    {
      "cell_type": "markdown",
      "source": [
        "##Q14. [1] Create a list of your favorite colors called **color_list** with at least three colors. [2] Use a **for loop** to iterate through the list and print each color."
      ],
      "metadata": {
        "id": "Bzfbrkc5A7KS"
      }
    },
    {
      "cell_type": "code",
      "source": [
        "color_list = []\n",
        "\n",
        "for in :"
      ],
      "metadata": {
        "id": "xAAf0Ez6BXII"
      },
      "execution_count": null,
      "outputs": []
    },
    {
      "cell_type": "markdown",
      "source": [
        "## Q15. Create a list of your favorite foods called **food_list** with at least three foods. Use a **for loop** to iterate through the list and print each food in uppercase letters."
      ],
      "metadata": {
        "id": "PBeXyJjdBXjq"
      }
    },
    {
      "cell_type": "code",
      "source": [
        "food_list = []\n",
        "\n",
        "for"
      ],
      "metadata": {
        "id": "x7Ci5q0pBkui"
      },
      "execution_count": null,
      "outputs": []
    },
    {
      "cell_type": "markdown",
      "source": [
        "##Q16.Create a list of your favorite animals called **animal_list** with at least three animals. Use a **for loop** to iterate through the list and print each animal, along with a message saying \"I love [animal]!\"\n",
        "\n"
      ],
      "metadata": {
        "id": "2l_4Ae3uBnQ0"
      }
    },
    {
      "cell_type": "code",
      "source": [
        "animal_list = []\n",
        "\n",
        "for\n"
      ],
      "metadata": {
        "id": "RWBlkXMqB6py"
      },
      "execution_count": null,
      "outputs": []
    },
    {
      "cell_type": "markdown",
      "source": [
        "##Q17. The following code should create a list of numbers from 1 to 5 and print the sum of the numbers, but there is an error. Identify and fix the error so that the code runs with no error.\n",
        "\n"
      ],
      "metadata": {
        "id": "YzWHkQmPCr4p"
      }
    },
    {
      "cell_type": "code",
      "source": [
        "my_list = [1, 2, 3, 4, 5]\n",
        "total = sum(my_list)\n",
        "print(\"The sum is: \" + str(total))"
      ],
      "metadata": {
        "id": "wKMgVa5FDmdm",
        "outputId": "7b86c9dc-a081-4389-d3c6-6c2b563a56c7",
        "colab": {
          "base_uri": "https://localhost:8080/",
          "height": 0
        }
      },
      "execution_count": 53,
      "outputs": [
        {
          "output_type": "stream",
          "name": "stdout",
          "text": [
            "The sum is: 15\n"
          ]
        }
      ]
    },
    {
      "cell_type": "markdown",
      "source": [
        "##Q18. The following code should create a dictionary of fruit names and their corresponding colors, and then print the color of the fruit \"banana\", but there is an error. Identify and fix the error so that the code runs with no error."
      ],
      "metadata": {
        "id": "pMFKmV7YD1dA"
      }
    },
    {
      "cell_type": "code",
      "source": [
        "fruit_dict = {'apple'= 'red', 'banana' = 'yellow', 'orange'= 'orange'}\n",
        "print(fruit_dict[banana])"
      ],
      "metadata": {
        "id": "NCluyxSSD4QU",
        "outputId": "ad231969-973d-47d4-9531-8970b118a253",
        "colab": {
          "base_uri": "https://localhost:8080/",
          "height": 137
        }
      },
      "execution_count": 57,
      "outputs": [
        {
          "output_type": "error",
          "ename": "SyntaxError",
          "evalue": "ignored",
          "traceback": [
            "\u001b[0;36m  File \u001b[0;32m\"<ipython-input-57-ee501e53ca31>\"\u001b[0;36m, line \u001b[0;32m1\u001b[0m\n\u001b[0;31m    fruit_dict = {'apple'= 'red', 'banana' = 'yellow', 'orange'= 'orange'}\u001b[0m\n\u001b[0m                  ^\u001b[0m\n\u001b[0;31mSyntaxError\u001b[0m\u001b[0;31m:\u001b[0m cannot assign to literal here. Maybe you meant '==' instead of '='?\n"
          ]
        }
      ]
    },
    {
      "cell_type": "markdown",
      "source": [
        "## Q19. Read the code below and identify the error. Then, fix the error so that the program outputs the fourth item (i.e., 'grape') in the list."
      ],
      "metadata": {
        "id": "89SBCwZH2AmN"
      }
    },
    {
      "cell_type": "code",
      "source": [
        "fruit = [\"apple\", \"banana\", \"orange\", \"grape\"]\n",
        "print(fruit[-1])"
      ],
      "metadata": {
        "id": "QFkH3Crf1_-c",
        "outputId": "23142b53-a56d-4fab-a47c-2a83cf269cde",
        "colab": {
          "base_uri": "https://localhost:8080/",
          "height": 0
        }
      },
      "execution_count": 59,
      "outputs": [
        {
          "output_type": "stream",
          "name": "stdout",
          "text": [
            "grape\n"
          ]
        }
      ]
    },
    {
      "cell_type": "markdown",
      "source": [
        "##Q19. The following code should create a string containing the words \"apple\", \"banana\", and \"orange\" separated by commas. Split the string into a list of the individual words, so that the output becomes [\"apple\", \"banana\", \"orange\"] and not [\"apple,banana,orange\"]."
      ],
      "metadata": {
        "id": "cqhaBl5yD_Zb"
      }
    },
    {
      "cell_type": "code",
      "source": [
        "my_string = \"apple,banana,orange\"\n",
        "my_list = my_string.split(\" \")\n",
        "\n",
        "print(my_string)"
      ],
      "metadata": {
        "id": "SsjNp-jUEC3t",
        "outputId": "f769d16a-a46b-46ae-9e05-ed467e56a046",
        "colab": {
          "base_uri": "https://localhost:8080/",
          "height": 0
        }
      },
      "execution_count": 66,
      "outputs": [
        {
          "output_type": "stream",
          "name": "stdout",
          "text": [
            "apple,banana,orange\n"
          ]
        }
      ]
    },
    {
      "cell_type": "markdown",
      "source": [
        "##Q20. Create a language application that changes a declarative sentence to an imperative sentence. Test the app with the following sentences: \n",
        "\n",
        "1. \"You take your seat.\" > (output) Take your seat!\n",
        "2. \"You bring your book.\" > (output) Bring your book!\n",
        "\n",
        "+ Step1. Start with the first sentence, and add code lines in order to get the output ('Take your seat!')\n",
        "+ Step2. Make another code cell and make a user interactive app using input(). Here you should be able to get the output of the second sentence when the user type the second sentence."
      ],
      "metadata": {
        "id": "uHHgSSliE8o8"
      }
    },
    {
      "cell_type": "code",
      "source": [
        "s = \"You take your seat.\"\n",
        "s1=s[0:4]\n",
        "s2=s[4:8]\n",
        "s3=s[8:13]\n",
        "s4=s[13:]\n",
        "\n",
        "\n",
        "ns1= s2 +\" \"+s3+s4\n",
        "ns1"
      ],
      "metadata": {
        "id": "rQlNj2QqFlT_",
        "outputId": "8503237a-bf80-461a-cbc0-96dfc4cc36c4",
        "colab": {
          "base_uri": "https://localhost:8080/",
          "height": 35
        }
      },
      "execution_count": 86,
      "outputs": [
        {
          "output_type": "execute_result",
          "data": {
            "text/plain": [
              "'take  your seat.'"
            ],
            "application/vnd.google.colaboratory.intrinsic+json": {
              "type": "string"
            }
          },
          "metadata": {},
          "execution_count": 86
        }
      ]
    },
    {
      "cell_type": "code",
      "source": [
        "s = input()\n",
        "\n",
        "\n",
        "\n"
      ],
      "metadata": {
        "colab": {
          "base_uri": "https://localhost:8080/",
          "height": 382
        },
        "id": "OPX8_wf8ywIJ",
        "outputId": "f74a1c59-f585-430b-bad3-0bd42e09ae4e"
      },
      "execution_count": 68,
      "outputs": [
        {
          "output_type": "error",
          "ename": "KeyboardInterrupt",
          "evalue": "ignored",
          "traceback": [
            "\u001b[0;31m---------------------------------------------------------------------------\u001b[0m",
            "\u001b[0;31mKeyboardInterrupt\u001b[0m                         Traceback (most recent call last)",
            "\u001b[0;32m<ipython-input-68-8fa19f44445c>\u001b[0m in \u001b[0;36m<cell line: 1>\u001b[0;34m()\u001b[0m\n\u001b[0;32m----> 1\u001b[0;31m \u001b[0ms\u001b[0m \u001b[0;34m=\u001b[0m \u001b[0minput\u001b[0m\u001b[0;34m(\u001b[0m\u001b[0;34m)\u001b[0m\u001b[0;34m\u001b[0m\u001b[0;34m\u001b[0m\u001b[0m\n\u001b[0m\u001b[1;32m      2\u001b[0m \u001b[0;34m\u001b[0m\u001b[0m\n\u001b[1;32m      3\u001b[0m \u001b[0;34m\u001b[0m\u001b[0m\n\u001b[1;32m      4\u001b[0m \u001b[0;34m\u001b[0m\u001b[0m\n",
            "\u001b[0;32m/usr/local/lib/python3.10/dist-packages/ipykernel/kernelbase.py\u001b[0m in \u001b[0;36mraw_input\u001b[0;34m(self, prompt)\u001b[0m\n\u001b[1;32m    849\u001b[0m                 \u001b[0;34m\"raw_input was called, but this frontend does not support input requests.\"\u001b[0m\u001b[0;34m\u001b[0m\u001b[0;34m\u001b[0m\u001b[0m\n\u001b[1;32m    850\u001b[0m             )\n\u001b[0;32m--> 851\u001b[0;31m         return self._input_request(str(prompt),\n\u001b[0m\u001b[1;32m    852\u001b[0m             \u001b[0mself\u001b[0m\u001b[0;34m.\u001b[0m\u001b[0m_parent_ident\u001b[0m\u001b[0;34m,\u001b[0m\u001b[0;34m\u001b[0m\u001b[0;34m\u001b[0m\u001b[0m\n\u001b[1;32m    853\u001b[0m             \u001b[0mself\u001b[0m\u001b[0;34m.\u001b[0m\u001b[0m_parent_header\u001b[0m\u001b[0;34m,\u001b[0m\u001b[0;34m\u001b[0m\u001b[0;34m\u001b[0m\u001b[0m\n",
            "\u001b[0;32m/usr/local/lib/python3.10/dist-packages/ipykernel/kernelbase.py\u001b[0m in \u001b[0;36m_input_request\u001b[0;34m(self, prompt, ident, parent, password)\u001b[0m\n\u001b[1;32m    893\u001b[0m             \u001b[0;32mexcept\u001b[0m \u001b[0mKeyboardInterrupt\u001b[0m\u001b[0;34m:\u001b[0m\u001b[0;34m\u001b[0m\u001b[0;34m\u001b[0m\u001b[0m\n\u001b[1;32m    894\u001b[0m                 \u001b[0;31m# re-raise KeyboardInterrupt, to truncate traceback\u001b[0m\u001b[0;34m\u001b[0m\u001b[0;34m\u001b[0m\u001b[0m\n\u001b[0;32m--> 895\u001b[0;31m                 \u001b[0;32mraise\u001b[0m \u001b[0mKeyboardInterrupt\u001b[0m\u001b[0;34m(\u001b[0m\u001b[0;34m\"Interrupted by user\"\u001b[0m\u001b[0;34m)\u001b[0m \u001b[0;32mfrom\u001b[0m \u001b[0;32mNone\u001b[0m\u001b[0;34m\u001b[0m\u001b[0;34m\u001b[0m\u001b[0m\n\u001b[0m\u001b[1;32m    896\u001b[0m             \u001b[0;32mexcept\u001b[0m \u001b[0mException\u001b[0m \u001b[0;32mas\u001b[0m \u001b[0me\u001b[0m\u001b[0;34m:\u001b[0m\u001b[0;34m\u001b[0m\u001b[0;34m\u001b[0m\u001b[0m\n\u001b[1;32m    897\u001b[0m                 \u001b[0mself\u001b[0m\u001b[0;34m.\u001b[0m\u001b[0mlog\u001b[0m\u001b[0;34m.\u001b[0m\u001b[0mwarning\u001b[0m\u001b[0;34m(\u001b[0m\u001b[0;34m\"Invalid Message:\"\u001b[0m\u001b[0;34m,\u001b[0m \u001b[0mexc_info\u001b[0m\u001b[0;34m=\u001b[0m\u001b[0;32mTrue\u001b[0m\u001b[0;34m)\u001b[0m\u001b[0;34m\u001b[0m\u001b[0;34m\u001b[0m\u001b[0m\n",
            "\u001b[0;31mKeyboardInterrupt\u001b[0m: Interrupted by user"
          ]
        }
      ]
    },
    {
      "cell_type": "markdown",
      "source": [
        "---\n",
        "# 📌Submission: 2 submissions\n",
        "\n",
        "[1] pdf submission (File > Print > pdf print), save pdf on the desktop, get it ready to upload your file to the google form below. \n",
        "+ File name: dl230503_yourid.pdf\n",
        "\n",
        "[2] Save this file in your github repository. \n",
        "+ File name: dl230503_yourid.ipynb"
      ],
      "metadata": {
        "id": "Pr37pv-b2wu-"
      }
    },
    {
      "cell_type": "markdown",
      "source": [
        "# 🌀 **Part II: Using a Google form (30 questions, 30 points)**\n",
        "\n",
        "[Click here to start](https://forms.gle/eidnsEzd4VkRXC4i7)\n"
      ],
      "metadata": {
        "id": "y8Uj1W9w4p-f"
      }
    }
  ]
}